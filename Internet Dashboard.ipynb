{
 "cells": [
  {
   "cell_type": "code",
   "execution_count": 4,
   "id": "e5dec1fa",
   "metadata": {
    "scrolled": true
   },
   "outputs": [
    {
     "name": "stdout",
     "output_type": "stream",
     "text": [
      "Requirement already satisfied: pandas in c:\\users\\user\\anaconda3\\lib\\site-packages (1.5.3)\n",
      "Requirement already satisfied: pytz>=2020.1 in c:\\users\\user\\anaconda3\\lib\\site-packages (from pandas) (2022.7)\n",
      "Requirement already satisfied: python-dateutil>=2.8.1 in c:\\users\\user\\anaconda3\\lib\\site-packages (from pandas) (2.8.2)\n",
      "Requirement already satisfied: numpy>=1.21.0 in c:\\users\\user\\anaconda3\\lib\\site-packages (from pandas) (1.23.5)\n",
      "Requirement already satisfied: six>=1.5 in c:\\users\\user\\anaconda3\\lib\\site-packages (from python-dateutil>=2.8.1->pandas) (1.16.0)\n"
     ]
    }
   ],
   "source": [
    "!pip install pandas"
   ]
  },
  {
   "cell_type": "code",
   "execution_count": 2,
   "id": "46f1c680",
   "metadata": {},
   "outputs": [
    {
     "name": "stdout",
     "output_type": "stream",
     "text": [
      "Requirement already satisfied: numpy in c:\\users\\user\\anaconda3\\lib\\site-packages (1.23.5)\n"
     ]
    }
   ],
   "source": [
    "!pip install numpy"
   ]
  },
  {
   "cell_type": "code",
   "execution_count": 3,
   "id": "7aa55bcc",
   "metadata": {},
   "outputs": [
    {
     "name": "stdout",
     "output_type": "stream",
     "text": [
      "Requirement already satisfied: plotly in c:\\users\\user\\anaconda3\\lib\\site-packages (5.9.0)\n",
      "Requirement already satisfied: tenacity>=6.2.0 in c:\\users\\user\\anaconda3\\lib\\site-packages (from plotly) (8.0.1)\n"
     ]
    }
   ],
   "source": [
    "!pip install plotly"
   ]
  },
  {
   "cell_type": "code",
   "execution_count": 5,
   "id": "53275ce2",
   "metadata": {},
   "outputs": [
    {
     "name": "stdout",
     "output_type": "stream",
     "text": [
      "Requirement already satisfied: dash in c:\\users\\user\\anaconda3\\lib\\site-packages (2.9.1)\n",
      "Requirement already satisfied: dash-html-components==2.0.0 in c:\\users\\user\\anaconda3\\lib\\site-packages (from dash) (2.0.0)\n",
      "Requirement already satisfied: dash-core-components==2.0.0 in c:\\users\\user\\anaconda3\\lib\\site-packages (from dash) (2.0.0)\n",
      "Requirement already satisfied: Flask>=1.0.4 in c:\\users\\user\\anaconda3\\lib\\site-packages (from dash) (2.2.2)\n",
      "Requirement already satisfied: dash-table==5.0.0 in c:\\users\\user\\anaconda3\\lib\\site-packages (from dash) (5.0.0)\n",
      "Requirement already satisfied: plotly>=5.0.0 in c:\\users\\user\\anaconda3\\lib\\site-packages (from dash) (5.9.0)\n",
      "Requirement already satisfied: Werkzeug>=2.2.2 in c:\\users\\user\\anaconda3\\lib\\site-packages (from Flask>=1.0.4->dash) (2.2.2)\n",
      "Requirement already satisfied: click>=8.0 in c:\\users\\user\\anaconda3\\lib\\site-packages (from Flask>=1.0.4->dash) (8.0.4)\n",
      "Requirement already satisfied: Jinja2>=3.0 in c:\\users\\user\\anaconda3\\lib\\site-packages (from Flask>=1.0.4->dash) (3.1.2)\n",
      "Requirement already satisfied: itsdangerous>=2.0 in c:\\users\\user\\anaconda3\\lib\\site-packages (from Flask>=1.0.4->dash) (2.0.1)\n",
      "Requirement already satisfied: tenacity>=6.2.0 in c:\\users\\user\\anaconda3\\lib\\site-packages (from plotly>=5.0.0->dash) (8.0.1)\n",
      "Requirement already satisfied: colorama in c:\\users\\user\\anaconda3\\lib\\site-packages (from click>=8.0->Flask>=1.0.4->dash) (0.4.6)\n",
      "Requirement already satisfied: MarkupSafe>=2.0 in c:\\users\\user\\anaconda3\\lib\\site-packages (from Jinja2>=3.0->Flask>=1.0.4->dash) (2.1.1)\n"
     ]
    }
   ],
   "source": [
    "!pip install dash"
   ]
  },
  {
   "cell_type": "code",
   "execution_count": 6,
   "id": "cc6ce379",
   "metadata": {},
   "outputs": [],
   "source": [
    "import pandas as pd\n",
    "import dash\n",
    "from dash import dcc\n",
    "from dash import html\n",
    "import plotly.express as px"
   ]
  },
  {
   "cell_type": "code",
   "execution_count": 8,
   "id": "f4346cd7",
   "metadata": {},
   "outputs": [],
   "source": [
    "import numpy as np\n",
    "import seaborn as sns\n",
    "import matplotlib.pyplot as plt\n",
    "import plotly.graph_objects as go\n",
    "import warnings\n",
    "warnings.filterwarnings('ignore')"
   ]
  },
  {
   "cell_type": "code",
   "execution_count": 9,
   "id": "1124dae6",
   "metadata": {},
   "outputs": [
    {
     "data": {
      "text/html": [
       "<div>\n",
       "<style scoped>\n",
       "    .dataframe tbody tr th:only-of-type {\n",
       "        vertical-align: middle;\n",
       "    }\n",
       "\n",
       "    .dataframe tbody tr th {\n",
       "        vertical-align: top;\n",
       "    }\n",
       "\n",
       "    .dataframe thead th {\n",
       "        text-align: right;\n",
       "    }\n",
       "</style>\n",
       "<table border=\"1\" class=\"dataframe\">\n",
       "  <thead>\n",
       "    <tr style=\"text-align: right;\">\n",
       "      <th></th>\n",
       "      <th>Unnamed: 0</th>\n",
       "      <th>Rank</th>\n",
       "      <th>Company</th>\n",
       "      <th>RevenueUSD billions</th>\n",
       "      <th>F.Y.</th>\n",
       "      <th>Employees</th>\n",
       "      <th>Market cap.USD billions</th>\n",
       "      <th>Headquarters</th>\n",
       "      <th>Founded</th>\n",
       "      <th>Industry</th>\n",
       "    </tr>\n",
       "  </thead>\n",
       "  <tbody>\n",
       "    <tr>\n",
       "      <th>0</th>\n",
       "      <td>0</td>\n",
       "      <td>1</td>\n",
       "      <td>Amazon</td>\n",
       "      <td>$469.82</td>\n",
       "      <td>2021</td>\n",
       "      <td>1608000</td>\n",
       "      <td>$1,691</td>\n",
       "      <td>Seattle</td>\n",
       "      <td>1994</td>\n",
       "      <td>Ecommerce</td>\n",
       "    </tr>\n",
       "    <tr>\n",
       "      <th>1</th>\n",
       "      <td>1</td>\n",
       "      <td>2</td>\n",
       "      <td>Alphabet</td>\n",
       "      <td>$257.64</td>\n",
       "      <td>2021</td>\n",
       "      <td>156500</td>\n",
       "      <td>$1,917</td>\n",
       "      <td>Mountain View</td>\n",
       "      <td>1998</td>\n",
       "      <td>Internet</td>\n",
       "    </tr>\n",
       "    <tr>\n",
       "      <th>2</th>\n",
       "      <td>2</td>\n",
       "      <td>3</td>\n",
       "      <td>JD.com</td>\n",
       "      <td>$149.32</td>\n",
       "      <td>2021</td>\n",
       "      <td>385357</td>\n",
       "      <td>$109.62</td>\n",
       "      <td>Beijing</td>\n",
       "      <td>1998</td>\n",
       "      <td>Ecommerce</td>\n",
       "    </tr>\n",
       "    <tr>\n",
       "      <th>3</th>\n",
       "      <td>3</td>\n",
       "      <td>4</td>\n",
       "      <td>Meta</td>\n",
       "      <td>$117.93</td>\n",
       "      <td>2021</td>\n",
       "      <td>71970</td>\n",
       "      <td>$935.64</td>\n",
       "      <td>Menlo Park</td>\n",
       "      <td>2004</td>\n",
       "      <td>Social Media</td>\n",
       "    </tr>\n",
       "    <tr>\n",
       "      <th>4</th>\n",
       "      <td>4</td>\n",
       "      <td>5</td>\n",
       "      <td>Alibaba</td>\n",
       "      <td>$109.48</td>\n",
       "      <td>2021</td>\n",
       "      <td>251462</td>\n",
       "      <td>$330.67</td>\n",
       "      <td>Hangzhou</td>\n",
       "      <td>1999</td>\n",
       "      <td>Ecommerce</td>\n",
       "    </tr>\n",
       "    <tr>\n",
       "      <th>5</th>\n",
       "      <td>5</td>\n",
       "      <td>6</td>\n",
       "      <td>Tencent</td>\n",
       "      <td>$87.85</td>\n",
       "      <td>2021</td>\n",
       "      <td>112771</td>\n",
       "      <td>$562.84</td>\n",
       "      <td>Shenzhen</td>\n",
       "      <td>1998</td>\n",
       "      <td>Internet</td>\n",
       "    </tr>\n",
       "    <tr>\n",
       "      <th>6</th>\n",
       "      <td>6</td>\n",
       "      <td>7</td>\n",
       "      <td>ByteDance</td>\n",
       "      <td>$58</td>\n",
       "      <td>2021</td>\n",
       "      <td>110000</td>\n",
       "      <td>$353</td>\n",
       "      <td>Beijing</td>\n",
       "      <td>2012</td>\n",
       "      <td>Social Media</td>\n",
       "    </tr>\n",
       "    <tr>\n",
       "      <th>7</th>\n",
       "      <td>7</td>\n",
       "      <td>8</td>\n",
       "      <td>Netflix</td>\n",
       "      <td>$29.7</td>\n",
       "      <td>2021</td>\n",
       "      <td>12135</td>\n",
       "      <td>$267.46</td>\n",
       "      <td>Los Gatos</td>\n",
       "      <td>1997</td>\n",
       "      <td>Entertainment</td>\n",
       "    </tr>\n",
       "    <tr>\n",
       "      <th>8</th>\n",
       "      <td>8</td>\n",
       "      <td>9</td>\n",
       "      <td>Meituan</td>\n",
       "      <td>$27.77</td>\n",
       "      <td>2021</td>\n",
       "      <td>100033</td>\n",
       "      <td>$177.34</td>\n",
       "      <td>Beijing</td>\n",
       "      <td>2010</td>\n",
       "      <td>Ecommerce</td>\n",
       "    </tr>\n",
       "    <tr>\n",
       "      <th>9</th>\n",
       "      <td>9</td>\n",
       "      <td>10</td>\n",
       "      <td>PayPal</td>\n",
       "      <td>$25.37</td>\n",
       "      <td>2021</td>\n",
       "      <td>30900</td>\n",
       "      <td>$220.26</td>\n",
       "      <td>San Jose</td>\n",
       "      <td>1998</td>\n",
       "      <td>Financial Services</td>\n",
       "    </tr>\n",
       "  </tbody>\n",
       "</table>\n",
       "</div>"
      ],
      "text/plain": [
       "   Unnamed: 0  Rank    Company RevenueUSD billions  F.Y. Employees  \\\n",
       "0           0     1     Amazon             $469.82  2021   1608000   \n",
       "1           1     2   Alphabet             $257.64  2021    156500   \n",
       "2           2     3     JD.com             $149.32  2021    385357   \n",
       "3           3     4       Meta             $117.93  2021     71970   \n",
       "4           4     5    Alibaba             $109.48  2021    251462   \n",
       "5           5     6    Tencent              $87.85  2021    112771   \n",
       "6           6     7  ByteDance                 $58  2021    110000   \n",
       "7           7     8    Netflix               $29.7  2021     12135   \n",
       "8           8     9    Meituan              $27.77  2021    100033   \n",
       "9           9    10     PayPal              $25.37  2021     30900   \n",
       "\n",
       "  Market cap.USD billions   Headquarters  Founded            Industry  \n",
       "0                  $1,691        Seattle     1994           Ecommerce  \n",
       "1                  $1,917  Mountain View     1998            Internet  \n",
       "2                 $109.62        Beijing     1998           Ecommerce  \n",
       "3                 $935.64     Menlo Park     2004        Social Media  \n",
       "4                 $330.67       Hangzhou     1999           Ecommerce  \n",
       "5                 $562.84       Shenzhen     1998            Internet  \n",
       "6                    $353        Beijing     2012        Social Media  \n",
       "7                 $267.46      Los Gatos     1997       Entertainment  \n",
       "8                 $177.34        Beijing     2010           Ecommerce  \n",
       "9                 $220.26       San Jose     1998  Financial Services  "
      ]
     },
     "execution_count": 9,
     "metadata": {},
     "output_type": "execute_result"
    }
   ],
   "source": [
    "df = pd.read_csv('companies.csv')\n",
    "df.head(10)"
   ]
  },
  {
   "cell_type": "code",
   "execution_count": 10,
   "id": "65da9a7d",
   "metadata": {},
   "outputs": [
    {
     "data": {
      "text/plain": [
       "array(['Amazon', 'Alphabet', 'JD.com', 'Meta', 'Alibaba', 'Tencent',\n",
       "       'ByteDance', 'Netflix', 'Meituan', 'PayPal', 'Wildberries',\n",
       "       'Salesforce.com', 'Suning.com', 'Baidu', 'Otto Group', 'Block',\n",
       "       'Uber', 'Adobe', 'Shein', 'Rakuten', 'NetEase', 'Wayfair', 'Kwai',\n",
       "       'Spotify', 'eBay', 'Bloomberg L.P.', 'Zalando', 'Chewy', 'Yahoo',\n",
       "       'Booking', 'Coupang', 'Naver', 'Carvana', 'Epic Games', 'Expedia',\n",
       "       'ASOS.com', 'ServiceNow', 'Sea Limited', 'Pinduoduo', 'Workday',\n",
       "       'Bet365', 'Twitter', 'Compass', 'Kakao', 'Stripe', 'Airbnb',\n",
       "       'Zillow', 'GoDaddy', 'Akamai Technologies', 'wework', 'Infor',\n",
       "       'DoorDash', 'Yandex', 'Shopify', 'Trip.com', 'Rackspace',\n",
       "       'EPAM Systems', 'Zoom Video', 'Opendoor', 'Overstock',\n",
       "       'Travelport', 'Wish', 'The Stars Group', 'Snap', 'Coolblue',\n",
       "       'Match Group', 'Lyft', 'Fanatics', '58.com', 'Copart',\n",
       "       'CDK Global', 'Sina Corp', 'Newegg', 'Instacart', 'Shutterfly',\n",
       "       'BMC Software', 'Zynga', 'Roblox Corporation', 'Dropbox', 'B2W',\n",
       "       'Grubhub', 'Twilio', 'Stitch Fix', 'Etsy', 'Pinterest', 'Farfetch',\n",
       "       'Klarna', 'J2 Global', 'ANGI Homeservices Inc.', 'DocuSign',\n",
       "       'Groupon', 'Ozon', 'Vroom.com', 'VK (formerly Mail.ru)',\n",
       "       'Sabre Corporation', 'Kaplan, Inc.',\n",
       "       'Endurance International Group', 'GoTo', 'Exela Technologies',\n",
       "       'Verisign', 'Flexport', 'LogMeIn', 'Unity Technologies',\n",
       "       'Blue Yonder', 'Craigslist', 'Grab'], dtype=object)"
      ]
     },
     "execution_count": 10,
     "metadata": {},
     "output_type": "execute_result"
    }
   ],
   "source": [
    "df[\"Company\"].unique()"
   ]
  },
  {
   "cell_type": "code",
   "execution_count": 11,
   "id": "b6befbd1",
   "metadata": {},
   "outputs": [],
   "source": [
    "\n",
    "app = dash.Dash(__name__)\n",
    "\n",
    "app.layout = html.Div(children=[\n",
    "   html.H1(children='Internet companies Dashboard'),\n",
    "   html.Div(children='''\n",
    "       Analyzing the Internet companies using Plotly Dash\n",
    "   '''),\n",
    "   dcc.Graph(\n",
    "       id='histogram',\n",
    "       figure={\n",
    "           'data': [\n",
    "               {'x': df['Company'], 'type': 'histogram', 'name': 'Company'},\n",
    "           ],\n",
    "           'layout': {\n",
    "               'title': 'Histogram-Company internet perform Analysis'\n",
    "           }\n",
    "       }\n",
    "   ),\n",
    "   dcc.Graph(\n",
    "       id='boxplot',\n",
    "       figure={\n",
    "           'data': [\n",
    "               {'y': df['Employees'], 'type': 'box', 'name': 'Employees'},\n",
    "           ],\n",
    "           'layout': {\n",
    "               'title': 'Employees Analysis by boxplot'\n",
    "           }\n",
    "       }\n",
    "   ),\n",
    "   dcc.Graph(\n",
    "       id='scatterplot',\n",
    "       figure={\n",
    "           'data': [\n",
    "               {'x': df['Company'], 'y': df['Employees'], 'mode': 'RevenueUSD billions', 'name': 'Company vs Employees'},\n",
    "           ],\n",
    "           'layout': {\n",
    "               'title': 'state vs. prep_time'\n",
    "           }\n",
    "       }\n",
    "   ),\n",
    "   dcc.Graph(\n",
    "       id='barchart',\n",
    "       figure={\n",
    "           'data': [\n",
    "               {'x': df['Founded'], 'type': 'bar', 'name': 'Founded'},\n",
    "           ],\n",
    "           'layout': {\n",
    "               'title': 'Company Founded Analysis'\n",
    "           }\n",
    "       }\n",
    "   ),\n",
    "   dcc.Graph(\n",
    "       id='mosaicplot',\n",
    "       figure=px.histogram(df, x=\"Company\", color=\"Industry\", barmode=\"overlay\", nbins=10, width=800, height=500)\n",
    "   )\n",
    "    ])\n"
   ]
  },
  {
   "cell_type": "code",
   "execution_count": null,
   "id": "4de38d7a",
   "metadata": {},
   "outputs": [
    {
     "name": "stdout",
     "output_type": "stream",
     "text": [
      "Dash is running on http://127.0.0.1:4050/\n",
      "\n",
      " * Serving Flask app '__main__'\n",
      " * Debug mode: off\n"
     ]
    },
    {
     "name": "stderr",
     "output_type": "stream",
     "text": [
      "WARNING: This is a development server. Do not use it in a production deployment. Use a production WSGI server instead.\n",
      " * Running on http://127.0.0.1:4050\n",
      "Press CTRL+C to quit\n",
      "127.0.0.1 - - [25/Mar/2023 19:53:50] \"GET / HTTP/1.1\" 200 -\n",
      "127.0.0.1 - - [25/Mar/2023 19:53:50] \"GET /_dash-component-suites/dash/deps/polyfill@7.v2_9_1m1679727083.12.1.min.js HTTP/1.1\" 200 -\n",
      "127.0.0.1 - - [25/Mar/2023 19:53:50] \"GET /_dash-component-suites/dash/deps/react@16.v2_9_1m1679727083.14.0.min.js HTTP/1.1\" 200 -\n",
      "127.0.0.1 - - [25/Mar/2023 19:53:50] \"GET /_dash-component-suites/dash/deps/react-dom@16.v2_9_1m1679727083.14.0.min.js HTTP/1.1\" 200 -\n",
      "127.0.0.1 - - [25/Mar/2023 19:53:50] \"GET /_dash-component-suites/dash/deps/prop-types@15.v2_9_1m1679727083.8.1.min.js HTTP/1.1\" 200 -\n",
      "127.0.0.1 - - [25/Mar/2023 19:53:50] \"GET /_dash-component-suites/dash/dcc/dash_core_components-shared.v2_9_0m1679727082.js HTTP/1.1\" 200 -\n",
      "127.0.0.1 - - [25/Mar/2023 19:53:50] \"GET /_dash-component-suites/dash/dash-renderer/build/dash_renderer.v2_9_1m1679727082.min.js HTTP/1.1\" 200 -\n",
      "127.0.0.1 - - [25/Mar/2023 19:53:50] \"GET /_dash-component-suites/dash/dcc/dash_core_components.v2_9_0m1679727082.js HTTP/1.1\" 200 -\n",
      "127.0.0.1 - - [25/Mar/2023 19:53:50] \"GET /_dash-component-suites/dash/dash_table/bundle.v5_2_3m1679727082.js HTTP/1.1\" 200 -\n",
      "127.0.0.1 - - [25/Mar/2023 19:53:50] \"GET /_dash-component-suites/dash/html/dash_html_components.v2_0_9m1679727083.min.js HTTP/1.1\" 200 -\n",
      "127.0.0.1 - - [25/Mar/2023 19:53:51] \"GET /_dash-dependencies HTTP/1.1\" 200 -\n",
      "127.0.0.1 - - [25/Mar/2023 19:53:51] \"GET /_dash-layout HTTP/1.1\" 200 -\n",
      "127.0.0.1 - - [25/Mar/2023 19:53:51] \"GET /_favicon.ico?v=2.9.1 HTTP/1.1\" 200 -\n",
      "127.0.0.1 - - [25/Mar/2023 19:53:51] \"GET /_dash-component-suites/dash/dcc/async-graph.js HTTP/1.1\" 200 -\n",
      "127.0.0.1 - - [25/Mar/2023 19:53:51] \"GET /_dash-component-suites/dash/dcc/async-plotlyjs.js HTTP/1.1\" 200 -\n"
     ]
    }
   ],
   "source": [
    "\n",
    "if __name__ == '__main__':\n",
    "    app.run_server(port=4050)"
   ]
  }
 ],
 "metadata": {
  "kernelspec": {
   "display_name": "Python 3 (ipykernel)",
   "language": "python",
   "name": "python3"
  },
  "language_info": {
   "codemirror_mode": {
    "name": "ipython",
    "version": 3
   },
   "file_extension": ".py",
   "mimetype": "text/x-python",
   "name": "python",
   "nbconvert_exporter": "python",
   "pygments_lexer": "ipython3",
   "version": "3.10.9"
  }
 },
 "nbformat": 4,
 "nbformat_minor": 5
}
